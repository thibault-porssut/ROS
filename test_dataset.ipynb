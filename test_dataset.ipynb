{
 "cells": [
  {
   "cell_type": "code",
   "execution_count": null,
   "id": "903d76d0",
   "metadata": {},
   "outputs": [],
   "source": [
    "import tensorflow_datasets as tfds\n",
    "\n",
    "# The name here MUST match the class name in your builder script, in snake_case\n",
    "dataset_name = \"panda_gazebo_pick_and_place\"\n",
    "\n",
    "# The path to the folder containing your .tfrecord files\n",
    "data_dir = \"path/to/your/gazebo/panda_pick_and_place\" \n",
    "\n",
    "# This command will try to find and load your dataset\n",
    "ds = tfds.load(dataset_name, data_dir=data_dir, split='train')\n",
    "\n",
    "# If it works, it will print the first example\n",
    "for example in ds.take(1):\n",
    "    print(\"Successfully loaded one episode!\")\n",
    "    print(example['steps']['observation']['instruction'])"
   ]
  }
 ],
 "metadata": {
  "kernelspec": {
   "display_name": "venv_py3",
   "language": "python",
   "name": "python3"
  },
  "language_info": {
   "name": "python",
   "version": "3.7.5"
  }
 },
 "nbformat": 4,
 "nbformat_minor": 5
}
